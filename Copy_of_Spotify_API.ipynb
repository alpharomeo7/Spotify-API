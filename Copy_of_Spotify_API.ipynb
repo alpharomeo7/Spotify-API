{
  "nbformat": 4,
  "nbformat_minor": 0,
  "metadata": {
    "colab": {
      "name": "Copy of Spotify API",
      "provenance": [],
      "collapsed_sections": [],
      "authorship_tag": "ABX9TyOZ/g2Hqy85e8izFTzLSO97",
      "include_colab_link": true
    },
    "kernelspec": {
      "name": "python3",
      "display_name": "Python 3"
    }
  },
  "cells": [
    {
      "cell_type": "markdown",
      "metadata": {
        "id": "view-in-github",
        "colab_type": "text"
      },
      "source": [
        "<a href=\"https://colab.research.google.com/github/alpharomeo7/Spotify-API/blob/main/Copy_of_Spotify_API.ipynb\" target=\"_parent\"><img src=\"https://colab.research.google.com/assets/colab-badge.svg\" alt=\"Open In Colab\"/></a>"
      ]
    },
    {
      "cell_type": "code",
      "metadata": {
        "id": "cmCe9uzzhfWO"
      },
      "source": [
        "import requests, json\n",
        "import time\n",
        "class SpotifyAPI:\n",
        "  def __init__(self):\n",
        "    self._encoded_client_credentials = '' # Removed token for secuirty \n",
        "    self._create_headers()\n",
        "    self._base_url = 'https://api.spotify.com/v1/'\n",
        "\n",
        "\n",
        "  def _create_headers(self):\n",
        "    ## Obtaining bearer token\n",
        "    #encoded_client_credentials =\n",
        "    headers = {\n",
        "        'Authorization': 'Basic ' + self._encoded_client_credentials,\n",
        "    }\n",
        "\n",
        "    data = {\n",
        "      'grant_type': 'client_credentials'\n",
        "    }\n",
        "\n",
        "    response = requests.post('https://accounts.spotify.com/api/token', headers=headers, data=data)\n",
        "    bearer_token = 'Bearer ' + json.loads(response.text)['access_token']\n",
        "\n",
        "    headers = {\n",
        "        'Authorization': bearer_token,\n",
        "    }\n",
        "    self._headers = headers\n",
        "    print(\"New Headers Created\")\n",
        " \n",
        "  def _request_api(self, endpoint):\n",
        "    \"\"\"\n",
        "    Requests API and Returns JSON Response\n",
        "    \"\"\"\n",
        "    response = requests.get(self._base_url + endpoint, headers = self._headers)\n",
        "\n",
        "    if response.status_code == 200:\n",
        "      return json.loads(response.text)\n",
        "\n",
        "    if response.status_code == 401: \n",
        "      print(\"Headers Expired\")\n",
        "      self._create_headers()\n",
        "      self._request_api(endpoint)\n",
        "\n",
        "    if response.status_code == 429:\n",
        "      print(\"Max Request Limit reached\")\n",
        "      time.sleep(3)\n",
        "      self._request_api(endpoint)\n",
        "   \n",
        "  def album(self, album_id): \n",
        "    return self._request_api('albums/{}'.format(album_id))\n",
        "    \n",
        "  def artist(self, artist_id): \n",
        "    return self._request_api('artists/{}'.format(artist_id))\n",
        "    \n",
        "  def albums_of(self, artist_id): \n",
        "    return self._request_api('artists/{}/albums?limit=50'.format(artist_id))['items']\n",
        "\n",
        "  def tracks_of_(self, album_id): \n",
        "    return self._request_api('albums/{}/tracks?limit=50'.format(album_id))['items']\n",
        "\n",
        "  def audio_analysis_of(self, track_ids):\n",
        "    results = []\n",
        "    query = ','.join(track_ids)\n",
        "    response = self._request_api('audio-features/?ids='+query)\n",
        "    if(response is None): \n",
        "      return[]\n",
        "    results +=  response[\"audio_features\"]\n",
        "    return results\n",
        "  \n",
        "  def top_tracks_of(self, artist_id,country): \n",
        "    print(self._base_url + 'artists/{}/top-tracks'.format(artist_id))\n",
        "    return self._request_api('artists/{}/top-tracks'.format(artist_id))\n",
        "\n",
        "  def search_artist(self, name): \n",
        "    try: \n",
        "      return self._request_api('search?q=' + name+ '&type=artist')['artists']['items'][0]\n",
        "    except: \n",
        "      return None\n",
        "\n",
        "    \n",
        "\n",
        "\n",
        "    \n",
        "   \n",
        "\n"
      ],
      "execution_count": null,
      "outputs": []
    },
    {
      "cell_type": "code",
      "metadata": {
        "id": "b-i7_u4DNR4Y",
        "colab": {
          "base_uri": "https://localhost:8080/"
        },
        "outputId": "87d6adab-1eaf-48ee-9b3a-b6afeb831ba2"
      },
      "source": [
        "s = SpotifyAPI()\n",
        "\n",
        "\n",
        "class Album:\n",
        "  def __init__(self, album_id): \n",
        "    self._album_id = album_id\n",
        "    self.info = s.album(self._album_id)\n",
        "    self._tracks = self.info['tracks']['items']\n",
        "\n",
        "\n",
        "\n",
        "  def analyze(self): \n",
        "    track_ids = [track['id'] for track in self._tracks] \n",
        "    self._analyzed_tracks = [track for track in s.audio_analysis_of(track_ids) if track]\n",
        "    for a_track in self._analyzed_tracks: \n",
        "        track = self._get_track(a_track['id'])\n",
        "        a_track['name'] = track['name']\n",
        "        a_track['album'] = self.info['name']\n",
        "        a_track['release_date'] = self.info['release_date']\n",
        "        a_track['release_year'] = int(self.info['release_date'][:4])\n",
        "        a_track['genres'] = self.info['genres']\n",
        "    return self._analyzed_tracks\n",
        "  \n",
        "  def _get_track(self,track_id): \n",
        "    for track in self._tracks: \n",
        "      if track['id'] == track_id: \n",
        "        return track\n",
        "\n",
        "  def __repr__(self): \n",
        "    return self.info['name']\n",
        " \n",
        "    \n",
        "\n",
        "class Artist: \n",
        "  def __init__(self,artist_id): \n",
        "    self.info = s.artist(artist_id) \n",
        "    self._album_ids = [ a['id'] for a in s.albums_of(artist_id)]\n",
        "    self.albums = [Album(album_id) for album_id in self._album_ids]\n",
        "    self.info['albums'] = len(self.albums)\n",
        "    self.info['first_release_date'] = min([a.info['release_date'] for a in self.albums])\n",
        "    self.info['last_release_date'] = max([a.info['release_date'] for a in self.albums])\n",
        "    #self.top_tracks = s.top_tracks_of(artist_id)\n",
        "    self.analyzed_tracks = []\n",
        "  \n",
        "  def analyze(self):\n",
        "    for album in self.albums: \n",
        "      self.analyzed_tracks += album.analyze()\n",
        "    return self\n",
        "\n",
        "  def save(self):\n",
        "    with open(self.info['id']+'.json','w') as outputfile: \n",
        "      json.dump({'info':self.info, 'analyzed_tracks': self.analyzed_tracks},outputfile, indent = \"\\t\")\n"
      ],
      "execution_count": null,
      "outputs": [
        {
          "output_type": "stream",
          "text": [
            "New Headers Created\n"
          ],
          "name": "stdout"
        }
      ]
    },
    {
      "cell_type": "code",
      "metadata": {
        "id": "ri_2JJU4oLwa"
      },
      "source": [
        "album = Album('3oIFxDIo2fwuk4lwCmFZCx')\n",
        "a_tracks = album.analyze()\n",
        "a_tracks\n",
        "\n"
      ],
      "execution_count": null,
      "outputs": []
    },
    {
      "cell_type": "code",
      "metadata": {
        "id": "FTF7n2NHSCXL",
        "colab": {
          "base_uri": "https://localhost:8080/"
        },
        "outputId": "25f012db-64dc-4e7d-8a33-a21d0ffb7412"
      },
      "source": [
        "artist = Artist('50JJSqHUf2RQ9xsHs0KMHg')\n",
        "artist.analyze()\n",
        "\n"
      ],
      "execution_count": null,
      "outputs": [
        {
          "output_type": "stream",
          "text": [
            "Max Request Limit reached\n",
            "Max Request Limit reached\n",
            "Max Request Limit reached\n"
          ],
          "name": "stdout"
        },
        {
          "output_type": "execute_result",
          "data": {
            "text/plain": [
              "<__main__.Artist at 0x7f589221df98>"
            ]
          },
          "metadata": {
            "tags": []
          },
          "execution_count": 14
        }
      ]
    },
    {
      "cell_type": "code",
      "metadata": {
        "id": "sUVSqTpJrX4e"
      },
      "source": [
        "artist.analyzed_tracks"
      ],
      "execution_count": null,
      "outputs": []
    },
    {
      "cell_type": "code",
      "metadata": {
        "id": "sB64_GzZaEsd"
      },
      "source": [
        "a = artist\n",
        "for alb in a.albums: \n",
        "  print(alb.info['name'] + \":\\t \\t \" + str(alb.info['genres']))\n"
      ],
      "execution_count": null,
      "outputs": []
    },
    {
      "cell_type": "code",
      "metadata": {
        "id": "N5Lau--0RAhW"
      },
      "source": [
        "import pandas as pd\n",
        "df = pd.DataFrame(artist.analyzed_tracks)\n"
      ],
      "execution_count": null,
      "outputs": []
    },
    {
      "cell_type": "code",
      "metadata": {
        "id": "TAAZGzVgcOQF",
        "colab": {
          "base_uri": "https://localhost:8080/"
        },
        "outputId": "d805a05c-8271-432f-cd69-6f44691e8d4d"
      },
      "source": [
        "l = list(df.groupby('album').max()['tempo'].to_dict().keys())\n",
        "print(l[8])"
      ],
      "execution_count": null,
      "outputs": [
        {
          "output_type": "stream",
          "text": [
            "Beautiful People (Acoustic)\n"
          ],
          "name": "stdout"
        }
      ]
    },
    {
      "cell_type": "code",
      "metadata": {
        "id": "rPUepXLDpDzE",
        "colab": {
          "base_uri": "https://localhost:8080/",
          "height": 317
        },
        "outputId": "b8162d5e-a5da-40c8-d379-908773f2cfe1"
      },
      "source": [
        "df.groupby('release_date').mean()['energy'].plot()"
      ],
      "execution_count": null,
      "outputs": [
        {
          "output_type": "execute_result",
          "data": {
            "text/plain": [
              "<matplotlib.axes._subplots.AxesSubplot at 0x7f3aa22ec908>"
            ]
          },
          "metadata": {
            "tags": []
          },
          "execution_count": 7
        },
        {
          "output_type": "display_data",
          "data": {
            "image/png": "[encoded data removed]",
            "text/plain": [
              "<Figure size 432x288 with 1 Axes>"
            ]
          },
          "metadata": {
            "tags": [],
            "needs_background": "light"
          }
        }
      ]
    },
    {
      "cell_type": "code",
      "metadata": {
        "id": "3-MwreiheEtz",
        "colab": {
          "base_uri": "https://localhost:8080/"
        },
        "outputId": "84024111-45ad-46d7-bccf-8f8810ae2408"
      },
      "source": [
        "s.top_tracks_of('6eUKZXaKkcviH0Ku9w2n3V')"
      ],
      "execution_count": null,
      "outputs": [
        {
          "output_type": "stream",
          "text": [
            "https://api.spotify.com/v1/artists/6eUKZXaKkcviH0Ku9w2n3V/top-tracks\n",
            "Headers Expired\n",
            "New Headers Created\n"
          ],
          "name": "stdout"
        }
      ]
    },
    {
      "cell_type": "code",
      "metadata": {
        "id": "jYuUUMdWhSPP",
        "colab": {
          "base_uri": "https://localhost:8080/"
        },
        "outputId": "6574ac76-d5f1-49d8-ea78-237c56671a8f"
      },
      "source": [
        "(s.search_artist('Jon bellion'))\n"
      ],
      "execution_count": null,
      "outputs": [
        {
          "output_type": "execute_result",
          "data": {
            "text/plain": [
              "{'external_urls': {'spotify': 'https://open.spotify.com/artist/50JJSqHUf2RQ9xsHs0KMHg'},\n",
              " 'followers': {'href': None, 'total': 1139176},\n",
              " 'genres': ['pop rap'],\n",
              " 'href': 'https://api.spotify.com/v1/artists/50JJSqHUf2RQ9xsHs0KMHg',\n",
              " 'id': '50JJSqHUf2RQ9xsHs0KMHg',\n",
              " 'images': [{'height': 640,\n",
              "   'url': 'https://i.scdn.co/image/c130cf4ab4e8a9b8046153102bccedae5ad6d8ed',\n",
              "   'width': 640},\n",
              "  {'height': 320,\n",
              "   'url': 'https://i.scdn.co/image/c770a7f543478385ca9d69f050eb010781cd4399',\n",
              "   'width': 320},\n",
              "  {'height': 160,\n",
              "   'url': 'https://i.scdn.co/image/8bf432a5ebaa42ac0a13209ee2b627506d10b92b',\n",
              "   'width': 160}],\n",
              " 'name': 'Jon Bellion',\n",
              " 'popularity': 76,\n",
              " 'type': 'artist',\n",
              " 'uri': 'spotify:artist:50JJSqHUf2RQ9xsHs0KMHg'}"
            ]
          },
          "metadata": {
            "tags": []
          },
          "execution_count": 5
        }
      ]
    },
    {
      "cell_type": "code",
      "metadata": {
        "id": "bvW8ufyQTCqk",
        "colab": {
          "base_uri": "https://localhost:8080/",
          "height": 54
        },
        "outputId": "a5d627d1-9d33-4c28-ee0c-07fb768a1cdc"
      },
      "source": [
        "a.analyzed_tracks[0].keys()"
      ],
      "execution_count": null,
      "outputs": [
        {
          "output_type": "execute_result",
          "data": {
            "text/plain": [
              "dict_keys(['danceability', 'energy', 'key', 'loudness', 'mode', 'speechiness', 'acousticness', 'instrumentalness', 'liveness', 'valence', 'tempo', 'type', 'id', 'uri', 'track_href', 'analysis_url', 'duration_ms', 'time_signature', 'name', 'album', 'release_date', 'release_year', 'genres'])"
            ]
          },
          "metadata": {
            "tags": []
          },
          "execution_count": 27
        }
      ]
    },
    {
      "cell_type": "code",
      "metadata": {
        "id": "i5hW1erHFvjq",
        "colab": {
          "base_uri": "https://localhost:8080/"
        },
        "outputId": "fa826796-8162-4c61-9a40-2807d4fcf27a"
      },
      "source": [
        "Artist('6eUKZXaKkcviH0Ku9w2n3V').analyze().save()"
      ],
      "execution_count": null,
      "outputs": [
        {
          "output_type": "stream",
          "text": [
            "https://api.spotify.com/v1/artists/6eUKZXaKkcviH0Ku9w2n3V/top-tracks\n"
          ],
          "name": "stdout"
        }
      ]
    },
    {
      "cell_type": "code",
      "metadata": {
        "id": "B-b9cqCEWY5_",
        "colab": {
          "base_uri": "https://localhost:8080/"
        },
        "outputId": "decb7e2b-ccec-40d6-dfad-2a88e59a2dff"
      },
      "source": [
        "artist.info"
      ],
      "execution_count": null,
      "outputs": [
        {
          "output_type": "execute_result",
          "data": {
            "text/plain": [
              "{'albums': 50,\n",
              " 'external_urls': {'spotify': 'https://open.spotify.com/artist/6eUKZXaKkcviH0Ku9w2n3V'},\n",
              " 'first_release_date': '2011-09-09',\n",
              " 'followers': {'href': None, 'total': 71661189},\n",
              " 'genres': ['pop', 'uk pop'],\n",
              " 'href': 'https://api.spotify.com/v1/artists/6eUKZXaKkcviH0Ku9w2n3V',\n",
              " 'id': '6eUKZXaKkcviH0Ku9w2n3V',\n",
              " 'images': [{'height': 640,\n",
              "   'url': 'https://i.scdn.co/image/f55cab0739390cf3b2c2f773b9c779b2f0ae8a99',\n",
              "   'width': 640},\n",
              "  {'height': 320,\n",
              "   'url': 'https://i.scdn.co/image/31e1cfee4ec3849bf3036a037cbbf57239f5c7a2',\n",
              "   'width': 320},\n",
              "  {'height': 160,\n",
              "   'url': 'https://i.scdn.co/image/f2e3eb4c81da6cd2f32036ab0946c6bbfe4a86b7',\n",
              "   'width': 160}],\n",
              " 'last_release_date': '2019-12-11',\n",
              " 'name': 'Ed Sheeran',\n",
              " 'popularity': 93,\n",
              " 'type': 'artist',\n",
              " 'uri': 'spotify:artist:6eUKZXaKkcviH0Ku9w2n3V'}"
            ]
          },
          "metadata": {
            "tags": []
          },
          "execution_count": 7
        }
      ]
    },
    {
      "cell_type": "code",
      "metadata": {
        "id": "W9soxsZcima9"
      },
      "source": [
        "json_str = \"\"\"\n",
        "var {field} = document.getElementById(\"{field}Chart\").getContext('2d');\n",
        "var {field}Chart = new Chart({field}, {{\n",
        "type: 'line',\n",
        "data: {{\n",
        "labels: {keys},\n",
        "datasets: [\n",
        "    {{\n",
        "        label: \"Mean\",\n",
        "        data: {meanData},\n",
        "        backgroundColor: [\n",
        "        'rgba(28,153,68,0.27)',\n",
        "          ],\n",
        "            borderColor: [\n",
        "        'rgba(107,241,30,0.74)',\n",
        "        ],\n",
        "          borderWidth: 2\n",
        "      }},\n",
        " {{\n",
        "        label: \"Max\",\n",
        "        data:{maxData},\n",
        "        backgroundColor: [\n",
        "        'rgba(108,3,15,0.95)',\n",
        "          ],\n",
        "            borderColor: [\n",
        "        'rgba(244,22,67,0.8)',\n",
        "        ],\n",
        "          borderWidth: 2,\n",
        "          showLine: false\n",
        "      }},\n",
        "{{\n",
        "        label: \"Min\",\n",
        "        data: {minData},\n",
        "         backgroundColor: [\n",
        "        'rgb(193,184,0)',\n",
        "          ],\n",
        "            borderColor: [\n",
        "        'rgba(244,117,14,0.8)',\n",
        "        ],\n",
        "          borderWidth: 2,\n",
        "          showLine: false\n",
        "      }}\n",
        "\n",
        "\n",
        "]\n",
        "}},\n",
        "options: {{\n",
        "responsive: true\n",
        "}}\n",
        "}});\n",
        "\n",
        "\"\"\"\n",
        "\n",
        "\n",
        "\n",
        "\n",
        "for f in list(df.columns[:11]): \n",
        "  keys = list(df.groupby('chart_label').mean()[f].to_dict().keys())\n",
        "  meanData = list(df.groupby('chart_label').mean()[f].to_dict().values())\n",
        "  minData = list(df.groupby('chart_label').min()[f].to_dict().values())\n",
        "  maxData = list(df.groupby('chart_label').max()[f].to_dict().values())\n",
        "  print(json_str.format(maxData=maxData,keys=keys,minData = minData, meanData = meanData,field=f))\n",
        "  print(\"\\n\")\n",
        "\n",
        "\n"
      ],
      "execution_count": null,
      "outputs": []
    },
    {
      "cell_type": "code",
      "metadata": {
        "id": "82NWUNkul67Y"
      },
      "source": [
        "str = \"\"\"\n",
        "        <div class=\"row\">\n",
        "          <div class=\"col-12\">\n",
        "            <div class=\"card card-chart\">\n",
        "              <div class=\"card-header \">\n",
        "                <div class=\"row\">\n",
        "                  <div class=\"col-sm-6 text-left\">\n",
        "                    <h2 class=\"card-title\">{ft}</h2>\n",
        "                </div>\n",
        "              </div>\n",
        "              <canvas id=\"{f}Chart\"></canvas>\n",
        "            </div>\n",
        "          </div>\n",
        "        </div>\n",
        "      </div>\n",
        "\"\"\"\n",
        "for f in list(df.columns[:11]): \n",
        "  print(str.format(f=f, ft=f.title()))\n",
        "\n",
        "  print(\"\\n \\n \")"
      ],
      "execution_count": null,
      "outputs": []
    },
    {
      "cell_type": "code",
      "metadata": {
        "id": "Ug9aGlLLmQVU",
        "colab": {
          "base_uri": "https://localhost:8080/",
          "height": 58
        },
        "outputId": "e88dfd64-d404-4c28-fefd-bb43f45c7796"
      },
      "source": [
        "\"a\".title()"
      ],
      "execution_count": null,
      "outputs": [
        {
          "output_type": "execute_result",
          "data": {
            "application/vnd.google.colaboratory.intrinsic+json": {
              "type": "string"
            },
            "text/plain": [
              "'A'"
            ]
          },
          "metadata": {
            "tags": []
          },
          "execution_count": 23
        }
      ]
    },
    {
      "cell_type": "code",
      "metadata": {
        "id": "n2oIf8s_mSa0",
        "colab": {
          "base_uri": "https://localhost:8080/",
          "height": 313
        },
        "outputId": "6352d222-0d54-45fd-eeaa-85357f6b16fd"
      },
      "source": [
        "import str"
      ],
      "execution_count": null,
      "outputs": [
        {
          "output_type": "error",
          "ename": "ModuleNotFoundError",
          "evalue": "ignored",
          "traceback": [
            "\u001b[0;31m---------------------------------------------------------------------------\u001b[0m",
            "\u001b[0;31mModuleNotFoundError\u001b[0m                       Traceback (most recent call last)",
            "\u001b[0;32m<ipython-input-39-e503c4619ee6>\u001b[0m in \u001b[0;36m<module>\u001b[0;34m()\u001b[0m\n\u001b[0;32m----> 1\u001b[0;31m \u001b[0;32mimport\u001b[0m \u001b[0mstr\u001b[0m\u001b[0;34m\u001b[0m\u001b[0;34m\u001b[0m\u001b[0m\n\u001b[0m",
            "\u001b[0;31mModuleNotFoundError\u001b[0m: No module named 'str'",
            "",
            "\u001b[0;31m---------------------------------------------------------------------------\u001b[0;32m\nNOTE: If your import is failing due to a missing package, you can\nmanually install dependencies using either !pip or !apt.\n\nTo view examples of installing some common dependencies, click the\n\"Open Examples\" button below.\n\u001b[0;31m---------------------------------------------------------------------------\u001b[0m\n"
          ]
        }
      ]
    }
  ]
}